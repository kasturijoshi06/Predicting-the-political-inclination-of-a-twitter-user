{
 "cells": [
  {
   "cell_type": "markdown",
   "metadata": {
    "colab_type": "text",
    "id": "2LDfWLvhYPtO"
   },
   "source": [
    "# Homework 3: Supervised machine learning\n",
    "\n",
    "UIC CS 418, Spring 2020\n",
    "\n",
    "_According to the **Academic Integrity Policy** of this course, all work submitted for grading must be done individually, unless otherwise specified. While we encourage you to talk to your peers and learn from them, this interaction must be superficial with regards to all work submitted for grading. This means you cannot work in teams, you cannot work side-by-side, you cannot submit someone else’s work (partial or complete) as your own. In particular, note that you are guilty of academic dishonesty if you extend or receive any kind of unauthorized assistance. Absolutely no transfer of program code between students is permitted (paper or electronic), and you may not solicit code from family, friends, or online forums. Other examples of academic dishonesty include emailing your program to another student, copying-pasting code from the internet, working in a group on a homework assignment, and allowing a tutor, TA, or another individual to write an answer for you. Academic dishonesty is unacceptable, and penalties range from failure to expulsion from the university; cases are handled via the official student conduct process described at https://dos.uic.edu/conductforstudents.shtml._\n",
    "\n",
    "This homework is an individual assignment for all graduate students. Undergraduate students are allowed to work in pairs and submit one homework assignment per pair. There will be no extra credit given to undergraduate students who choose to work alone. The pairs of students who choose to work together and submit one homework assignment together still need to abide by the Academic Integrity Policy and not share or receive help from others (except each other).\n",
    "\n",
    "\n",
    "## Due Date\n",
    "\n",
    "This assignment is due at 11:59pm Friday, March 13, 2020. \n",
    "\n",
    "\n",
    "### What to Submit\n",
    "\n",
    "You need to complete all code and answer all questions denoted by **Q#** (each one is under a bike image) in this notebook. When you are done, you should export **`hw3.ipynb`** with your answers as a PDF file, upload that file `hw3.pdf` to *Homework 3 - Written Part* on Gradescope, tagging each question. \n",
    "\n",
    "You need to copy all functions that are part of questions Q1-Q9 to `hw3.py`. That includes `process()`, `process_all()`, `create_features()`, `create_labels()`, `class MajorityLabelClassifier()`, `learn_classifier()`, `evaluate_classifier()`, `best_model_selection()` and `classify_tweets()`. You need to upload a completed Jupyter notebook (`hw3.ipynb` file) and `hw3.py` to *Homework 3 - code* on Gradescope. \n",
    "\n",
    "For undergraduate students who work in a team of two, only one student needs to submit the homework and just tag the other student on Gradescope.\n",
    "\n",
    "#### Autograding\n",
    "\n",
    "Questions will be graded based on both manual grading and an Autograder which will run on your `hw3.py` file. All parts of Homework 3 are graded based on correctness, **not** based on completion."
   ]
  },
  {
   "cell_type": "code",
   "execution_count": 1,
   "metadata": {
    "colab": {},
    "colab_type": "code",
    "id": "vogrCA5aYPtQ"
   },
   "outputs": [],
   "source": [
    "import numpy as np\n",
    "import pandas as pd\n",
    "%matplotlib inline\n",
    "import matplotlib.pyplot as plt\n",
    "import seaborn as sns\n",
    "import nltk\n",
    "import sklearn \n",
    "import string\n",
    "import statistics \n",
    "from IPython.display import display, Latex, Markdown\n",
    "from nltk.stem import WordNetLemmatizer\n",
    "from sklearn.feature_extraction.text import TfidfVectorizer\n",
    "from nltk.tokenize import RegexpTokenizer\n",
    "from sklearn.model_selection import cross_val_score\n",
    "from sklearn.svm import SVC\n",
    "from sklearn.metrics import accuracy_score\n",
    "import re\n",
    "import itertools"
   ]
  },
  {
   "cell_type": "markdown",
   "metadata": {
    "colab_type": "text",
    "id": "6PmFK0GgYPtU"
   },
   "source": [
    "# Classifying tweets [100%]\n",
    "\n",
    "In this problem, you will be analyzing Twitter data extracted using [this](https://dev.twitter.com/overview/api) api. The data contains tweets posted by the following six Twitter accounts: `realDonaldTrump, mike_pence, GOP, HillaryClinton, timkaine, TheDemocrats`\n",
    "\n",
    "For every tweet, there are two pieces of information:\n",
    "- `screen_name`: the Twitter handle of the user tweeting and\n",
    "- `text`: the content of the tweet.\n",
    "\n",
    "The tweets have been divided into two parts - train and test available to you in CSV files. For train, both the `screen_name` and `text` attributes were provided but for test, `screen_name` is hidden.\n",
    "\n",
    "The overarching goal of the problem is to \"predict\" the political inclination (Republican/Democratic) of the Twitter user from one of his/her tweets. The ground truth (i.e., true class labels) is determined from the `screen_name` of the tweet as follows\n",
    "- `realDonaldTrump, mike_pence, GOP` are Republicans\n",
    "- `HillaryClinton, timkaine, TheDemocrats` are Democrats\n",
    "\n",
    "Thus, this is a binary classification problem. \n",
    "\n",
    "The problem proceeds in three stages:\n",
    "- **Text processing (25%)**: We will clean up the raw tweet text using the various functions offered by the [nltk](http://www.nltk.org/genindex.html) package.\n",
    "- **Feature construction (25%)**: In this part, we will construct bag-of-words feature vectors and training labels from the processed text of tweets and the `screen_name` columns respectively.\n",
    "- **Classification (50%)**: Using the features derived, we will use [sklearn](http://scikit-learn.org/stable/modules/classes.html) package to learn a model which classifies the tweets as desired. \n",
    "\n",
    "You will use two new python packages in this problem: `nltk` and `sklearn`, both of which should be available with anaconda. However, NLTK comes with many corpora, toy grammars, trained models, etc, which have to be downloaded manually. This assignment requires NLTK's stopwords list and WordNetLemmatizer. Install them using:"
   ]
  },
  {
   "cell_type": "code",
   "execution_count": 2,
   "metadata": {
    "colab": {},
    "colab_type": "code",
    "id": "wQGjuhliYPtV"
   },
   "outputs": [
    {
     "name": "stderr",
     "output_type": "stream",
     "text": [
      "[nltk_data] Downloading package stopwords to\n",
      "[nltk_data]     C:\\Users\\kastu\\AppData\\Roaming\\nltk_data...\n",
      "[nltk_data]   Package stopwords is already up-to-date!\n",
      "[nltk_data] Downloading package wordnet to\n",
      "[nltk_data]     C:\\Users\\kastu\\AppData\\Roaming\\nltk_data...\n",
      "[nltk_data]   Package wordnet is already up-to-date!\n",
      "[nltk_data] Downloading package punkt to\n",
      "[nltk_data]     C:\\Users\\kastu\\AppData\\Roaming\\nltk_data...\n",
      "[nltk_data]   Package punkt is already up-to-date!\n",
      "[nltk_data] Downloading package tagsets to\n",
      "[nltk_data]     C:\\Users\\kastu\\AppData\\Roaming\\nltk_data...\n",
      "[nltk_data]   Package tagsets is already up-to-date!\n",
      "[nltk_data] Downloading package averaged_perceptron_tagger to\n",
      "[nltk_data]     C:\\Users\\kastu\\AppData\\Roaming\\nltk_data...\n",
      "[nltk_data]   Package averaged_perceptron_tagger is already up-to-\n",
      "[nltk_data]       date!\n"
     ]
    }
   ],
   "source": [
    "nltk.download('stopwords')\n",
    "nltk.download('wordnet')\n",
    "nltk.download('punkt')\n",
    "nltk.download('tagsets')\n",
    "\n",
    "# Verify that the following commands work for you, before moving on.\n",
    "nltk.download('averaged_perceptron_tagger')\n",
    "stopwords=nltk.corpus.stopwords.words('english')"
   ]
  },
  {
   "cell_type": "markdown",
   "metadata": {
    "colab_type": "text",
    "id": "pTqEaBw9YPtZ"
   },
   "source": [
    "Let's begin!\n",
    "\n",
    "## A. Text Processing [25%]\n",
    "\n",
    "You first task to fill in the following function which processes and tokenizes raw text. The generated list of tokens should meet the following specifications:\n",
    "1. The tokens must all be in lower case.\n",
    "2. The tokens should appear in the same order as in the raw text.\n",
    "3. The tokens must be in their lemmatized form. If a word cannot be lemmatized (i.e, you get an exception), simply catch it and ignore it. These words will not appear in the token list.\n",
    "4. The tokens must not contain any punctuations. Punctuations should be handled as follows: (a) Apostrophe of the form `'s` must be ignored. e.g., `She's` becomes `she`. (b) Other apostrophes should be omitted. e.g, `don't` becomes `dont`. (c) Words must be broken at the hyphen and other punctuations. \n",
    "5. The tokens must not contain any part of a url.\n",
    "\n",
    "Part of your work is to figure out a logical order to carry out the above operations. You may find `string.punctuation` useful, to get hold of all punctuation symbols. Look for [regular expressions](https://docs.python.org/3/library/re.html) capturing urls in the text. Your tokens must be of type `str`. Use `nltk.word_tokenize()` for tokenization once you have handled punctuation in the manner specified above. \n",
    "\n",
    "You would want to take a look at the `lemmatize()` function [here](https://www.nltk.org/_modules/nltk/stem/wordnet.html).\n",
    "In order for `lemmatize()` to give you the root form for any word, you have to provide the context in which you want to lemmatize through the `pos` parameter: `lemmatizer.lemmatize(word, pos=SOMEVALUE)`. The context should be the part of speech (POS) for that word. The good news is you do not have to manually write out the lexical categories for each word because [nltk.pos_tag()](https://www.nltk.org/book/ch05.html) will do this for you. Now you just need to use the results from `pos_tag()` for the `pos` parameter.\n",
    "However, you can notice the POS tag returned from `pos_tag()` is in different format than the expected pos by `lemmatizer`.\n",
    "> pos\n",
    "(Syntactic category): n for noun files, v for verb files, a for adjective files, r for adverb files.\n",
    "\n",
    "You need to map these pos appropriately. `nltk.help.upenn_tagset()` provides description of each tag returned by `pos_tag()`.\n",
    "\n",
    "<img src=\"bikeshare.png\" width=\"100px\" align=\"left\" float=\"left\"/>\n",
    "<br><br><br>\n",
    "\n",
    "## Q1 (15%):"
   ]
  },
  {
   "cell_type": "code",
   "execution_count": 3,
   "metadata": {
    "colab": {},
    "colab_type": "code",
    "id": "B5IMtsQoYPta"
   },
   "outputs": [],
   "source": [
    "def process(text, lemmatizer=nltk.stem.wordnet.WordNetLemmatizer()):\n",
    "    \"\"\" Normalizes case and handles punctuation\n",
    "    Inputs:\n",
    "        text: str: raw text\n",
    "        lemmatizer: an instance of a class implementing the lemmatize() method\n",
    "                    (the default argument is of type nltk.stem.wordnet.WordNetLemmatizer)\n",
    "    Outputs:\n",
    "        list(str): tokenized text\n",
    "    \"\"\"\n",
    "    lt=[]\n",
    "    lower_text = text.lower()\n",
    "    reg=re.sub(r\"(\\w+)'s\", r'\\1', lower_text)\n",
    "    reg=reg.replace(\"'\", \"\")\n",
    "    reg=reg.replace(\"-\",\" \")\n",
    "    reg1=re.sub(r'http[s]?://(?:[a-zA-Z]|[0-9]|[$-_@.&+]|[!*\\(\\),]|(?:%[0-9a-fA-F][0-9a-fA-F]))+', '', reg)\n",
    "    punc=str.maketrans(string.punctuation,32*\" \")\n",
    "    pt=reg1.translate(punc)\n",
    "    tokens=nltk.word_tokenize(pt)\n",
    "    ps=nltk.pos_tag(tokens)\n",
    "    posMapping = {\n",
    "    \"N\":'n',\n",
    "    \"V\":'v',\n",
    "    \"J\":'a',\n",
    "    \"R\":'r'\n",
    "    }\n",
    "    for word in ps:\n",
    "        if word[1][0] in posMapping:\n",
    "            lemmatized_word = lemmatizer.lemmatize(word[0],pos=posMapping[word[1][0]])\n",
    "        else:\n",
    "            lemmatized_word = lemmatizer.lemmatize(word[0],pos='n')\n",
    "        lt.append(str(lemmatized_word))\n",
    "    return lt"
   ]
  },
  {
   "cell_type": "markdown",
   "metadata": {
    "colab_type": "text",
    "id": "bspITcPiYPte"
   },
   "source": [
    "You can test the above function as follows. Try to make your test strings as exhaustive as possible. Some checks are:"
   ]
  },
  {
   "cell_type": "code",
   "execution_count": 4,
   "metadata": {
    "colab": {},
    "colab_type": "code",
    "id": "UrEzaolBYPtf"
   },
   "outputs": [
    {
     "name": "stdout",
     "output_type": "stream",
     "text": [
      "['im', 'do', 'well', 'how', 'about', 'you']\n",
      "['education', 'be', 'the', 'ability', 'to', 'listen', 'to', 'almost', 'anything', 'without', 'lose', 'your', 'temper', 'or', 'your', 'self', 'confidence']\n",
      "['be', 'have', 'do', 'language', 'city', 'mice']\n",
      "['it', 'hilarious', 'check', 'it', 'out']\n"
     ]
    }
   ],
   "source": [
    "print(process(\"I'm doing well! How about you?\"))\n",
    "# ['im', 'do', 'well', 'how', 'about', 'you']\n",
    "\n",
    "print(process(\"Education is the ability to listen to almost anything without losing your temper or your self-confidence.\"))\n",
    "# ['education', 'is', 'the', 'ability', 'to', 'listen', 'to', 'almost', 'anything', 'without', 'lose', 'your', 'temper', 'or', 'your', 'self', 'confidence']\n",
    "\n",
    "print(process(\"been had done languages cities mice\"))\n",
    "# ['be', 'have', 'do', 'language', 'city', 'mice']\n",
    "\n",
    "print(process(\"It's hilarious. Check it out http://t.co/dummyurl\"))\n",
    "# ['it', 'hilarious', 'check', 'it', 'out']"
   ]
  },
  {
   "cell_type": "markdown",
   "metadata": {
    "colab_type": "text",
    "id": "Ylcws_-LYPti"
   },
   "source": [
    "<img src=\"bikeshare.png\" width=\"100px\" align=\"left\" float=\"left\"/>\n",
    "<br><br><br>\n",
    "\n",
    "## Q2 (10%):\n",
    "\n",
    "You will now use the `process()` function we implemented to convert the pandas dataframe we just loaded from tweets_train.csv file. Your function should be able to handle any data frame which contains a column called `text`. The data frame you return should replace every string in `text` with the result of `process()` and retain all other columns as such. Do not change the order of rows/columns. Before writing `process_all()`, load the data into a DataFrame and look at its format:"
   ]
  },
  {
   "cell_type": "code",
   "execution_count": 5,
   "metadata": {
    "colab": {},
    "colab_type": "code",
    "id": "aEONT9fXYPti"
   },
   "outputs": [
    {
     "name": "stdout",
     "output_type": "stream",
     "text": [
      "      screen_name                                               text\n",
      "0             GOP  RT @GOPconvention: #Oregon votes today. That m...\n",
      "1    TheDemocrats  RT @DWStweets: The choice for 2016 is clear: W...\n",
      "2  HillaryClinton  Trump's calling for trillion dollar tax cuts f...\n",
      "3  HillaryClinton  .@TimKaine's guiding principle: the belief tha...\n",
      "4        timkaine  Glad the Senate could pass a #THUD / MilCon / ...\n"
     ]
    }
   ],
   "source": [
    "tweets = pd.read_csv(\"tweets_train.csv\", na_filter=False)\n",
    "print(tweets.head())"
   ]
  },
  {
   "cell_type": "code",
   "execution_count": 6,
   "metadata": {},
   "outputs": [
    {
     "data": {
      "text/html": [
       "<div>\n",
       "<style scoped>\n",
       "    .dataframe tbody tr th:only-of-type {\n",
       "        vertical-align: middle;\n",
       "    }\n",
       "\n",
       "    .dataframe tbody tr th {\n",
       "        vertical-align: top;\n",
       "    }\n",
       "\n",
       "    .dataframe thead th {\n",
       "        text-align: right;\n",
       "    }\n",
       "</style>\n",
       "<table border=\"1\" class=\"dataframe\">\n",
       "  <thead>\n",
       "    <tr style=\"text-align: right;\">\n",
       "      <th></th>\n",
       "      <th>screen_name</th>\n",
       "      <th>text</th>\n",
       "    </tr>\n",
       "  </thead>\n",
       "  <tbody>\n",
       "    <tr>\n",
       "      <td>count</td>\n",
       "      <td>17298</td>\n",
       "      <td>17298</td>\n",
       "    </tr>\n",
       "    <tr>\n",
       "      <td>unique</td>\n",
       "      <td>6</td>\n",
       "      <td>17260</td>\n",
       "    </tr>\n",
       "    <tr>\n",
       "      <td>top</td>\n",
       "      <td>HillaryClinton</td>\n",
       "      <td>MAKE AMERICA GREAT AGAIN!</td>\n",
       "    </tr>\n",
       "    <tr>\n",
       "      <td>freq</td>\n",
       "      <td>2912</td>\n",
       "      <td>7</td>\n",
       "    </tr>\n",
       "  </tbody>\n",
       "</table>\n",
       "</div>"
      ],
      "text/plain": [
       "           screen_name                       text\n",
       "count            17298                      17298\n",
       "unique               6                      17260\n",
       "top     HillaryClinton  MAKE AMERICA GREAT AGAIN!\n",
       "freq              2912                          7"
      ]
     },
     "execution_count": 6,
     "metadata": {},
     "output_type": "execute_result"
    }
   ],
   "source": [
    "tweets.describe()"
   ]
  },
  {
   "cell_type": "code",
   "execution_count": 7,
   "metadata": {
    "colab": {},
    "colab_type": "code",
    "id": "SM7hJBdOYPtl"
   },
   "outputs": [],
   "source": [
    "def process_all(df, lemmatizer=nltk.stem.wordnet.WordNetLemmatizer()):\n",
    "    \"\"\" process all text in the dataframe using process() function.\n",
    "    Inputs\n",
    "        df: pd.DataFrame: dataframe containing a column 'text' loaded from the CSV file\n",
    "        lemmatizer: an instance of a class implementing the lemmatize() method\n",
    "                    (the default argument is of type nltk.stem.wordnet.WordNetLemmatizer)\n",
    "    Outputs\n",
    "        pd.DataFrame: dataframe in which the values of text column have been changed from str to list(str),\n",
    "                        the output from process() function. Other columns are unaffected.\n",
    "    \"\"\"\n",
    "    p=[]\n",
    "    for val in df['text']:\n",
    "        p.append(process(val,lemmatizer))\n",
    "    df['text']=p\n",
    "\n",
    "    return df"
   ]
  },
  {
   "cell_type": "code",
   "execution_count": 8,
   "metadata": {
    "colab": {},
    "colab_type": "code",
    "id": "lXQP6CAiYPto"
   },
   "outputs": [
    {
     "name": "stdout",
     "output_type": "stream",
     "text": [
      "      screen_name                                               text\n",
      "0             GOP  [rt, gopconvention, oregon, vote, today, that,...\n",
      "1    TheDemocrats  [rt, dwstweets, the, choice, for, 2016, be, cl...\n",
      "2  HillaryClinton  [trump, call, for, trillion, dollar, tax, cut,...\n",
      "3  HillaryClinton  [timkaine, guide, principle, the, belief, that...\n",
      "4        timkaine  [glad, the, senate, could, pass, a, thud, milc...\n"
     ]
    }
   ],
   "source": [
    "# test your code\n",
    "processed_tweets = process_all(tweets)\n",
    "print(processed_tweets.head())\n",
    "\n",
    "#       screen_name                                               text\n",
    "# 0             GOP  [rt, gopconvention, oregon, vote, today, that,...\n",
    "# 1    TheDemocrats  [rt, dwstweets, the, choice, for, 2016, be, cl...\n",
    "# 2  HillaryClinton  [trump, call, for, trillion, dollar, tax, cut,...\n",
    "# 3  HillaryClinton  [timkaine, guide, principle, the, belief, that...\n",
    "# 4        timkaine  [glad, the, senate, could, pass, a, thud, milc..."
   ]
  },
  {
   "cell_type": "code",
   "execution_count": null,
   "metadata": {},
   "outputs": [],
   "source": [
    "processed_tweets"
   ]
  },
  {
   "cell_type": "markdown",
   "metadata": {
    "colab_type": "text",
    "id": "qsBiunCIYPtr"
   },
   "source": [
    "## B. Feature Construction [25%]\n",
    "\n",
    "The next step is to derive feature vectors from the tokenized tweets. In this section, you will be constructing a bag-of-words TF-IDF feature vector. But before that, as you may have guessed, the number of possible words is prohibitively large and not all of them may be useful for our classification task. We need to determine which words to retain, and which to omit. A common heuristic is to construct a frequency distribution of words in the corpus and prune out the head and tail of the distribution. The intuition of the above operation is as follows. Very common words (i.e. stopwords) add almost no information regarding similarity of two pieces of text. Similarly with very rare words. NLTK has a list of in-built stop words which is a good substitute for head of the distribution. We will consider a word rare if it occurs only in a single document (row) in whole of `tweets_train.csv`. \n",
    "\n",
    "<img src=\"bikeshare.png\" width=\"100px\" align=\"left\" float=\"left\"/>\n",
    "<br><br><br>\n",
    "\n",
    "## Q3 (15%):\n",
    "\n",
    "Construct a sparse matrix of features for each tweet with the help of `sklearn.feature_extraction.text.TfidfVectorizer` (documentation [here](https://scikit-learn.org/stable/modules/generated/sklearn.feature_extraction.text.TfidfVectorizer.html)). You need to pass a parameter `min_df=2` to filter out the words occuring only in one document in the whole training set. Remember to ignore the stop words as well. You must leave other optional parameters (e.g., `vocab`, `norm`, etc) at their default values. "
   ]
  },
  {
   "cell_type": "code",
   "execution_count": 9,
   "metadata": {},
   "outputs": [],
   "source": [
    "def token_function(docs):\n",
    "    return docs"
   ]
  },
  {
   "cell_type": "code",
   "execution_count": 10,
   "metadata": {
    "colab": {},
    "colab_type": "code",
    "id": "8NQ9wVm3YPt0"
   },
   "outputs": [],
   "source": [
    "def create_features(processed_tweets, stop_words):\n",
    "    \"\"\" creates the feature matrix using the processed tweet text\n",
    "    Inputs:\n",
    "        tweets: pd.DataFrame: tweets read from train/test csv file, containing the column 'text'\n",
    "        rare_words: list(str): one of the outputs of get_rare_words() function\n",
    "    Outputs:\n",
    "        sklearn.feature_extraction.text.TfidfVectorizer: the TfidfVectorizer object used\n",
    "                                                we need this to tranform test tweets in the same way as train tweets\n",
    "        scipy.sparse.csr.csr_matrix: sparse bag-of-words TF-IDF feature matrix\n",
    "    \"\"\"\n",
    "    vectorizer = TfidfVectorizer(stop_words=stop_words,min_df=2, tokenizer=token_function, lowercase= False)\n",
    "    X = vectorizer.fit_transform(processed_tweets['text'])\n",
    "    return vectorizer, X\n"
   ]
  },
  {
   "cell_type": "code",
   "execution_count": 11,
   "metadata": {
    "colab": {},
    "colab_type": "code",
    "id": "XXYtqEyvYPt4"
   },
   "outputs": [
    {
     "name": "stderr",
     "output_type": "stream",
     "text": [
      "C:\\Users\\kastu\\AppData\\Local\\Continuum\\anaconda3\\lib\\site-packages\\sklearn\\feature_extraction\\text.py:300: UserWarning: Your stop_words may be inconsistent with your preprocessing. Tokenizing the stop words generated tokens [\"'\", 'b', 'c', 'e', 'f', 'g', 'h', 'j', 'l', 'n', 'p', 'r', 'u', 'v', 'w'] not in stop_words.\n",
      "  'stop_words.' % sorted(inconsistent))\n"
     ]
    }
   ],
   "source": [
    "# execute this code\n",
    "(tfidf, X) = create_features(processed_tweets, stopwords)"
   ]
  },
  {
   "cell_type": "code",
   "execution_count": 14,
   "metadata": {},
   "outputs": [
    {
     "data": {
      "text/html": [
       "<div>\n",
       "<style scoped>\n",
       "    .dataframe tbody tr th:only-of-type {\n",
       "        vertical-align: middle;\n",
       "    }\n",
       "\n",
       "    .dataframe tbody tr th {\n",
       "        vertical-align: top;\n",
       "    }\n",
       "\n",
       "    .dataframe thead th {\n",
       "        text-align: right;\n",
       "    }\n",
       "</style>\n",
       "<table border=\"1\" class=\"dataframe\">\n",
       "  <thead>\n",
       "    <tr style=\"text-align: right;\">\n",
       "      <th></th>\n",
       "      <th>screen_name</th>\n",
       "      <th>text</th>\n",
       "    </tr>\n",
       "  </thead>\n",
       "  <tbody>\n",
       "    <tr>\n",
       "      <td>0</td>\n",
       "      <td>GOP</td>\n",
       "      <td>[rt, gopconvention, oregon, vote, today, that,...</td>\n",
       "    </tr>\n",
       "    <tr>\n",
       "      <td>1</td>\n",
       "      <td>TheDemocrats</td>\n",
       "      <td>[rt, dwstweets, the, choice, for, 2016, be, cl...</td>\n",
       "    </tr>\n",
       "    <tr>\n",
       "      <td>2</td>\n",
       "      <td>HillaryClinton</td>\n",
       "      <td>[trump, call, for, trillion, dollar, tax, cut,...</td>\n",
       "    </tr>\n",
       "    <tr>\n",
       "      <td>3</td>\n",
       "      <td>HillaryClinton</td>\n",
       "      <td>[timkaine, guide, principle, the, belief, that...</td>\n",
       "    </tr>\n",
       "    <tr>\n",
       "      <td>4</td>\n",
       "      <td>timkaine</td>\n",
       "      <td>[glad, the, senate, could, pass, a, thud, milc...</td>\n",
       "    </tr>\n",
       "    <tr>\n",
       "      <td>...</td>\n",
       "      <td>...</td>\n",
       "      <td>...</td>\n",
       "    </tr>\n",
       "    <tr>\n",
       "      <td>17293</td>\n",
       "      <td>mike_pence</td>\n",
       "      <td>[rt, govpencein, cast, a, line, w, firstladyin...</td>\n",
       "    </tr>\n",
       "    <tr>\n",
       "      <td>17294</td>\n",
       "      <td>mike_pence</td>\n",
       "      <td>[rt, indiana, edc, indiana, be, at, record, em...</td>\n",
       "    </tr>\n",
       "    <tr>\n",
       "      <td>17295</td>\n",
       "      <td>mike_pence</td>\n",
       "      <td>[rt, indiana, edc, indy, will, have, a, differ...</td>\n",
       "    </tr>\n",
       "    <tr>\n",
       "      <td>17296</td>\n",
       "      <td>HillaryClinton</td>\n",
       "      <td>[tune, in, now, to, watch, joebiden, hit, the,...</td>\n",
       "    </tr>\n",
       "    <tr>\n",
       "      <td>17297</td>\n",
       "      <td>GOP</td>\n",
       "      <td>[rt, chrisyounggop, be, launch, a, leadright20...</td>\n",
       "    </tr>\n",
       "  </tbody>\n",
       "</table>\n",
       "<p>17298 rows × 2 columns</p>\n",
       "</div>"
      ],
      "text/plain": [
       "          screen_name                                               text\n",
       "0                 GOP  [rt, gopconvention, oregon, vote, today, that,...\n",
       "1        TheDemocrats  [rt, dwstweets, the, choice, for, 2016, be, cl...\n",
       "2      HillaryClinton  [trump, call, for, trillion, dollar, tax, cut,...\n",
       "3      HillaryClinton  [timkaine, guide, principle, the, belief, that...\n",
       "4            timkaine  [glad, the, senate, could, pass, a, thud, milc...\n",
       "...               ...                                                ...\n",
       "17293      mike_pence  [rt, govpencein, cast, a, line, w, firstladyin...\n",
       "17294      mike_pence  [rt, indiana, edc, indiana, be, at, record, em...\n",
       "17295      mike_pence  [rt, indiana, edc, indy, will, have, a, differ...\n",
       "17296  HillaryClinton  [tune, in, now, to, watch, joebiden, hit, the,...\n",
       "17297             GOP  [rt, chrisyounggop, be, launch, a, leadright20...\n",
       "\n",
       "[17298 rows x 2 columns]"
      ]
     },
     "execution_count": 14,
     "metadata": {},
     "output_type": "execute_result"
    }
   ],
   "source": [
    "processed_tweets"
   ]
  },
  {
   "cell_type": "code",
   "execution_count": 12,
   "metadata": {},
   "outputs": [
    {
     "name": "stdout",
     "output_type": "stream",
     "text": [
      "  (0, 1965)\t0.22886350101214348\n",
      "  (0, 294)\t0.4351352694384084\n",
      "  (0, 4595)\t0.33601994834411947\n",
      "  (0, 7216)\t0.20091488021777973\n",
      "  (0, 7656)\t0.22127944613971215\n",
      "  (0, 5207)\t0.44472426628196604\n",
      "  (0, 3158)\t0.5842545336016333\n",
      "  (0, 6221)\t0.13001912966608242\n",
      "  (1, 7753)\t0.3769498831193922\n",
      "  (1, 2065)\t0.25960764283368026\n",
      "  (1, 3546)\t0.28865515219524585\n",
      "  (1, 7796)\t0.3054653910722847\n",
      "  (1, 2072)\t0.2492510390179917\n",
      "  (1, 660)\t0.29155157407662313\n",
      "  (1, 4931)\t0.24005763554272266\n",
      "  (1, 1507)\t0.328581187952096\n",
      "  (1, 148)\t0.2663146253697212\n",
      "  (1, 1449)\t0.328581187952096\n",
      "  (1, 2372)\t0.3250660012574241\n",
      "  (1, 6221)\t0.1288530448806572\n",
      "  (2, 6510)\t0.28755745155548024\n",
      "  (2, 2737)\t0.3103963064614689\n",
      "  (2, 5362)\t0.25845592777788845\n",
      "  (2, 7198)\t0.21702125330483937\n",
      "  (2, 6865)\t0.3298131472448165\n",
      "  :\t:\n",
      "  (17295, 2416)\t0.21664026620896962\n",
      "  (17295, 7998)\t0.14111664712135583\n",
      "  (17295, 3726)\t0.3391136390694226\n",
      "  (17295, 8002)\t0.13979756983922903\n",
      "  (17295, 6221)\t0.10033290128947066\n",
      "  (17296, 4032)\t0.4298974520136584\n",
      "  (17296, 3484)\t0.4318117136035671\n",
      "  (17296, 5141)\t0.4178574102981763\n",
      "  (17296, 3452)\t0.23164391183813346\n",
      "  (17296, 7361)\t0.341242787047006\n",
      "  (17296, 7280)\t0.4379118075657523\n",
      "  (17296, 7731)\t0.3037263844268904\n",
      "  (17297, 3351)\t0.36559228729432264\n",
      "  (17297, 6753)\t0.3547044389542538\n",
      "  (17297, 1466)\t0.34625916767242676\n",
      "  (17297, 4450)\t0.3284710302647082\n",
      "  (17297, 6757)\t0.28534707901150874\n",
      "  (17297, 5498)\t0.2937923502933357\n",
      "  (17297, 6692)\t0.29573363778961426\n",
      "  (17297, 2785)\t0.2528494770447212\n",
      "  (17297, 4259)\t0.19943248067330271\n",
      "  (17297, 4237)\t0.2705095371436721\n",
      "  (17297, 4479)\t0.14233458035120636\n",
      "  (17297, 6510)\t0.22726303810302698\n",
      "  (17297, 6221)\t0.09356240216336714\n"
     ]
    }
   ],
   "source": [
    "print(X)"
   ]
  },
  {
   "cell_type": "code",
   "execution_count": 13,
   "metadata": {},
   "outputs": [
    {
     "name": "stdout",
     "output_type": "stream",
     "text": [
      "<class 'scipy.sparse.csr.csr_matrix'>\n"
     ]
    }
   ],
   "source": [
    "print(type(X))"
   ]
  },
  {
   "cell_type": "markdown",
   "metadata": {
    "colab_type": "text",
    "id": "5WQJih7SYPt6"
   },
   "source": [
    "<img src=\"bikeshare.png\" width=\"100px\" align=\"left\" float=\"left\"/>\n",
    "<br><br><br>\n",
    "\n",
    "## Q4 (10%):\n",
    "\n",
    "Also for each tweet, assign a class label (0 or 1) using its `screen_name`. Use 0 for realDonaldTrump, mike_pence, GOP and 1 for the rest."
   ]
  },
  {
   "cell_type": "code",
   "execution_count": 12,
   "metadata": {
    "colab": {},
    "colab_type": "code",
    "id": "bLtDPaInYPt7"
   },
   "outputs": [],
   "source": [
    "def create_labels(processed_tweets):\n",
    "    \"\"\" creates the class labels from screen_name\n",
    "    Inputs:\n",
    "        tweets: pd.DataFrame: tweets read from train file, containing the column 'screen_name'\n",
    "    Outputs:\n",
    "        numpy.ndarray(int): dense binary numpy array of class labels\n",
    "    \"\"\"\n",
    "    Y=[]\n",
    "    zero=[\"realDonaldTrump\", \"mike_pence\", \"GOP\"]\n",
    "    for i in processed_tweets[\"screen_name\"]:\n",
    "        if i in zero:\n",
    "            Y.append(0)\n",
    "        else:\n",
    "            Y.append(1)\n",
    "    return np.asarray(Y)"
   ]
  },
  {
   "cell_type": "code",
   "execution_count": 13,
   "metadata": {
    "colab": {},
    "colab_type": "code",
    "id": "z49a4djKYPt-"
   },
   "outputs": [],
   "source": [
    "# execute this code\n",
    "y = create_labels(processed_tweets)"
   ]
  },
  {
   "cell_type": "markdown",
   "metadata": {
    "colab_type": "text",
    "id": "5STbtJYSYPuA"
   },
   "source": [
    "## C. Classification [50%]\n",
    "\n",
    "And finally, we are ready to put things together and learn a model for the classification of tweets. The classifier you will be using is [`sklearn.svm.SVC`](http://scikit-learn.org/stable/modules/generated/sklearn.svm.SVC.html#sklearn.svm.SVC) (Support Vector Machine). \n",
    "\n",
    "At the heart of SVMs is the concept of kernel functions, which determines how the similarity/distance between two data points in computed. `sklearn`'s SVM provides four kernel functions: `linear`, `poly`, `rbf`, `sigmoid` (details [here](http://scikit-learn.org/stable/modules/svm.html#svm-kernels)) but you can also implement your own distance function and pass it as an argument to the classifier.\n",
    "\n",
    "Through the various functions you implement in this part, you will be able to learn a classifier, score a classifier based on how well it performs, use it for prediction tasks and compare it to a baseline.\n",
    "\n",
    "Specifically, you will carry out the following tasks (Q5-9) in order:\n",
    "\n",
    "1. Implement and evaluate a simple baseline classifier MajorityLabelClassifier.\n",
    "2. Implement the `learn_classifier()` function assuming `kernel` is always one of {`linear`, `poly`, `rbf`, `sigmoid`}. \n",
    "3. Implement the `evaluate_classifier()` function which scores a classifier based on accuracy of a given dataset.\n",
    "4. Implement `best_model_selection()` to perform cross-validation by calling `learn_classifier()` and `evaluate_classifier()` for different folds and determine which of the four kernels performs the best.\n",
    "5. Go back to `learn_classifier()` and fill in the best kernel. \n",
    "\n",
    "<img src=\"bikeshare.png\" width=\"100px\" align=\"left\" float=\"left\"/>\n",
    "<br><br><br>\n",
    "\n",
    "## Q5 (10%):\n",
    "\n",
    "To determine whether your classifier is performing well, you need to compare it to a baseline classifier. A baseline is generally a simple or trivial classifier and your classifier should beat the baseline in terms of a performance measure such as accuracy. Implement a classifier called `MajorityLabelClassifier` that always predicts the class equal to **mode** of the labels (i.e., the most frequent label) in training data. Part of the code is done for you. Implement the `fit` and `predict` methods. Initialize your classifier appropriately."
   ]
  },
  {
   "cell_type": "code",
   "execution_count": 14,
   "metadata": {
    "colab": {},
    "colab_type": "code",
    "id": "xUBpZ6_NYPuB"
   },
   "outputs": [
    {
     "data": {
      "text/plain": [
       "0.5001734304543878"
      ]
     },
     "execution_count": 14,
     "metadata": {},
     "output_type": "execute_result"
    }
   ],
   "source": [
    "class MajorityLabelClassifier():\n",
    "    \"\"\"\n",
    "    A classifier that predicts the mode of training labels\n",
    "    \"\"\"\n",
    "    def __init__(self):\n",
    "        \"\"\"\n",
    "        Initialize\n",
    "        \"\"\"\n",
    "        pass \n",
    "    \n",
    "    def fit(self, X, y):\n",
    "        \"\"\"\n",
    "        Implement fit by taking training data X and their labels y and finding the mode of y\n",
    "        \"\"\"\n",
    "        self.mode= statistics.mode(y)\n",
    "    def predict(self, X):\n",
    "        \"\"\"\n",
    "        Implement to give the mode of training labels as a prediction for each data instance in X\n",
    "        return labels\n",
    "        \"\"\"\n",
    "        y_predict = []\n",
    "        for i in X:\n",
    "            y_predict.append(self.mode)\n",
    "        return y_predict\n",
    "# Report the accuracy of your classifier by comparing the predicted label of each example to its true label\n",
    "classifier = MajorityLabelClassifier()\n",
    "classifier.fit(X,y)\n",
    "accuracy_score(y,classifier.predict(X))\n",
    "# training accuracy = 0.500173"
   ]
  },
  {
   "cell_type": "markdown",
   "metadata": {
    "colab_type": "text",
    "id": "MZldwD1JYPuD"
   },
   "source": [
    "<img src=\"bikeshare.png\" width=\"100px\" align=\"left\" float=\"left\"/>\n",
    "<br><br><br>\n",
    "\n",
    "## Q6 (10%):\n",
    "\n",
    "Implement the `learn_classifier()` function assuming `kernel` is always one of {`linear`, `poly`, `rbf`, `sigmoid`}. Stick to default values for any other optional parameters."
   ]
  },
  {
   "cell_type": "code",
   "execution_count": 15,
   "metadata": {
    "colab": {},
    "colab_type": "code",
    "id": "WGpfOK2EYPuD"
   },
   "outputs": [],
   "source": [
    "def learn_classifier(X, y, kernel):\n",
    "    \"\"\" learns a classifier from the input features and labels using the kernel function supplied\n",
    "    Inputs:\n",
    "        X_train: scipy.sparse.csr.csr_matrix: sparse matrix of features, output of create_features()\n",
    "        y_train: numpy.ndarray(int): dense binary vector of class labels, output of create_labels()\n",
    "        kernel: str: kernel function to be used with classifier. [linear|poly|rbf|sigmoid]\n",
    "    Outputs:\n",
    "        sklearn.svm.classes.SVC: classifier learnt from data\n",
    "    \"\"\"\n",
    "    \n",
    "    clf = SVC(kernel=kernel,gamma='scale')\n",
    "    clf.fit(X, y)\n",
    "    return clf"
   ]
  },
  {
   "cell_type": "code",
   "execution_count": 16,
   "metadata": {
    "colab": {},
    "colab_type": "code",
    "id": "iOwIKVuvYPuF"
   },
   "outputs": [],
   "source": [
    "# execute code\n",
    "classifier = learn_classifier(X, y, 'linear')"
   ]
  },
  {
   "cell_type": "markdown",
   "metadata": {
    "colab_type": "text",
    "id": "PDsVwZuNYPuK"
   },
   "source": [
    "<img src=\"bikeshare.png\" width=\"100px\" align=\"left\" float=\"left\"/>\n",
    "<br><br><br>\n",
    "\n",
    "## Q7 (10%):\n",
    "\n",
    "Now that we know how to learn a classifier, the next step is to evaluate it, ie., characterize how good its classification performance is. This step is necessary to select the best model among a given set of models, or even tune hyperparameters for a given model.\n",
    "\n",
    "There are two questions that should now come to your mind:\n",
    "1. **What data to use?** \n",
    "    - **Validation Data**: The data used to evaluate a classifier is called **validation data** (or hold-out data), and it is usually different from the data used for training. The model or hyperparameter with the best performance in the held out data is chosen. This approach is relatively fast and simple but vulnerable to biases found in validation set.\n",
    "    - **Cross-validation**: This approach divides the dataset in $k$ groups (so, called k-fold cross-validation). One of group is used as test set for evaluation and other groups as training set. The model or hyperparameter with the best average performance across all k folds is chosen. For this question you will perform 4-fold cross validation to determine the best kernel. We will keep all other hyperparameters default for now. This approach provides robustness toward biasness in validation set. However, it takes more time.\n",
    "    \n",
    "2. **And what metric?** There are several evaluation measures available in the literature (e.g., accuracy, precision, recall, F-1,etc) and different fields have different preferences for specific metrics due to different goals. We will go with accuracy. According to wiki, **accuracy** of a classifier measures the fraction of all data points that are correctly classified by it; it is the ratio of the number of correct classifications to the total number of (correct and incorrect) classifications. `sklearn.metrics` provides a number of performance metrics.\n",
    "\n",
    "Now, implement the following function."
   ]
  },
  {
   "cell_type": "code",
   "execution_count": 17,
   "metadata": {
    "colab": {},
    "colab_type": "code",
    "id": "tvLsjxqKYPuL"
   },
   "outputs": [],
   "source": [
    "def evaluate_classifier(classifier, X_validation, y_validation):\n",
    "    \"\"\" evaluates a classifier based on a supplied validation data\n",
    "    Inputs:\n",
    "        classifier: sklearn.svm.classes.SVC: classifer to evaluate\n",
    "        X_train: scipy.sparse.csr.csr_matrix: sparse matrix of features\n",
    "        y_train: numpy.ndarray(int): dense binary vector of class labels\n",
    "    Outputs:\n",
    "        double: accuracy of classifier on the validation data\n",
    "    \"\"\"\n",
    "    y_pred = classifier.predict(X_validation)\n",
    "    acc= accuracy_score(y_validation,y_pred)\n",
    "    return acc"
   ]
  },
  {
   "cell_type": "code",
   "execution_count": 18,
   "metadata": {
    "colab": {},
    "colab_type": "code",
    "id": "pmdMkFIzYPuN"
   },
   "outputs": [
    {
     "name": "stdout",
     "output_type": "stream",
     "text": [
      "0.9513238524684935\n"
     ]
    }
   ],
   "source": [
    "# test your code by evaluating the accuracy on the training data\n",
    "accuracy = evaluate_classifier(classifier, X, y)\n",
    "print(accuracy)\n",
    "# should give 0.956700196554515"
   ]
  },
  {
   "cell_type": "markdown",
   "metadata": {
    "colab_type": "text",
    "id": "bYYIADjZYPuP"
   },
   "source": [
    "<img src=\"bikeshare.png\" width=\"100px\" align=\"left\" float=\"left\"/>\n",
    "<br><br><br>\n",
    "\n",
    "## Q8 (10%):\n",
    "\n",
    "Now it is time to decide which kernel works best by using the cross-validation technique. Write code to split the training data into 4-folds (75% training and 25% validation) by shuffling randomly. For each kernel, record the average accuracy for all folds and determine the best classifier. Since our dataset is balanced (both classes are in almost equal propertion), `sklearn.model_selection.KFold` [doc](https://scikit-learn.org/stable/modules/generated/sklearn.model_selection.KFold.html) can be used for cross-validation."
   ]
  },
  {
   "cell_type": "code",
   "execution_count": 19,
   "metadata": {
    "colab": {},
    "colab_type": "code",
    "id": "nq5AlMoUYPuQ"
   },
   "outputs": [
    {
     "data": {
      "text/plain": [
       "KFold(n_splits=4, random_state=1, shuffle=True)"
      ]
     },
     "execution_count": 19,
     "metadata": {},
     "output_type": "execute_result"
    }
   ],
   "source": [
    "kf = sklearn.model_selection.KFold(n_splits=4, random_state=1, shuffle=True)\n",
    "kf"
   ]
  },
  {
   "cell_type": "markdown",
   "metadata": {
    "colab_type": "text",
    "id": "Og6hzUPPYPuT"
   },
   "source": [
    "Then use the following code to determine which classifier is the best. "
   ]
  },
  {
   "cell_type": "code",
   "execution_count": 20,
   "metadata": {
    "colab": {},
    "colab_type": "code",
    "id": "oJAjQyNKYPuT",
    "scrolled": true
   },
   "outputs": [
    {
     "name": "stdout",
     "output_type": "stream",
     "text": [
      "TRAIN: [    0     1     2 ... 17292 17296 17297] TEST: [    4     5     6 ... 17293 17294 17295]\n",
      "TRAIN: [    0     1     2 ... 17295 17296 17297] TEST: [    7    12    16 ... 17279 17290 17292]\n",
      "TRAIN: [    0     4     5 ... 17294 17295 17296] TEST: [    1     2     3 ... 17287 17288 17297]\n",
      "TRAIN: [    1     2     3 ... 17294 17295 17297] TEST: [    0     9    14 ... 17285 17289 17296]\n"
     ]
    }
   ],
   "source": [
    "def best_model_selection(kf, X, y):\n",
    "    \"\"\"\n",
    "    Select the kernel giving best results using k-fold cross-validation.\n",
    "    Other parameters should be left default.\n",
    "    Input:\n",
    "    kf (sklearn.model_selection.KFold): kf object defined above\n",
    "    X (scipy.sparse.csr.csr_matrix): training data\n",
    "    y (array(int)): training labels\n",
    "    Return:\n",
    "    best_kernel (string)\n",
    "    \"\"\"\n",
    "    accuracy={}\n",
    "    for train_index, test_index in kf.split(X):\n",
    "        print(\"TRAIN:\", train_index, \"TEST:\", test_index)\n",
    "        X_train, X_test = X[train_index], X[test_index]\n",
    "        y_train, y_test = y[train_index], y[test_index]  \n",
    "        for kernel in ['linear', 'rbf', 'poly', 'sigmoid']:\n",
    "            l=learn_classifier(X_train,y_train, kernel)\n",
    "            y_pred = []\n",
    "            for i in X_test:\n",
    "                y_pred.append(l.predict(i))\n",
    "            acc= accuracy_score(y_test,y_pred)\n",
    "            if kernel in accuracy:\n",
    "                accuracy[kernel]+=acc\n",
    "            else:\n",
    "                accuracy[kernel]=acc\n",
    "    max=0\n",
    "    best_kernel=\"\"\n",
    "    for i in accuracy:\n",
    "        accuracy[i]=accuracy[i]/4\n",
    "        if accuracy[i]>max:\n",
    "            max=accuracy[i]\n",
    "            best_kernel=i\n",
    "    return best_kernel\n",
    "        \n",
    "    \n",
    "    # Use the documentation of KFold cross-validation to split ..\n",
    "    # training data and test data from create_features() and create_labels()\n",
    "    # call learn_classifer() using training split of kth fold\n",
    "    # evaluate on the test split of kth fold\n",
    "    # record avg accuracies and determine best model (kernel)\n",
    "    #return best kernel as string\n",
    "\n",
    "\n",
    "#Test your code\n",
    "best_kernel = best_model_selection(kf, X, y)\n",
    "#best_kernel"
   ]
  },
  {
   "cell_type": "code",
   "execution_count": 21,
   "metadata": {},
   "outputs": [
    {
     "data": {
      "text/plain": [
       "'poly'"
      ]
     },
     "execution_count": 21,
     "metadata": {},
     "output_type": "execute_result"
    }
   ],
   "source": [
    "best_kernel"
   ]
  },
  {
   "cell_type": "markdown",
   "metadata": {
    "colab_type": "text",
    "id": "Yho_UYX7YPuX"
   },
   "source": [
    "<img src=\"bikeshare.png\" width=\"100px\" align=\"left\" float=\"left\"/>\n",
    "<br><br>\n",
    "\n",
    "## Q9 (10%)\n",
    "\n",
    "We're almost done! It's time to write a nice little wrapper function that will use our model to classify unlabeled tweets from tweets_test.csv file. "
   ]
  },
  {
   "cell_type": "code",
   "execution_count": 22,
   "metadata": {
    "colab": {},
    "colab_type": "code",
    "id": "qth7DPekYPuY"
   },
   "outputs": [],
   "source": [
    "def classify_tweets(tfidf, classifier, unlabeled_tweets):\n",
    "    \"\"\" predicts class labels for raw tweet text\n",
    "    Inputs:\n",
    "        tfidf: sklearn.feature_extraction.text.TfidfVectorizer: the TfidfVectorizer object used on training data\n",
    "        classifier: sklearn.svm.classes.SVC: classifier learnt\n",
    "        unlabeled_tweets: pd.DataFrame: tweets read from tweets_test.csv\n",
    "    Outputs:\n",
    "        numpy.ndarray(int): dense binary vector of class labels for unlabeled tweets\n",
    "    \"\"\"\n",
    "    unlabeled_tweets=process_all(unlabeled_tweets)\n",
    "    X1 = tfidf.transform(unlabeled_tweets['text'])\n",
    "    return np.asarray(classifier.predict(X1),int)"
   ]
  },
  {
   "cell_type": "code",
   "execution_count": 23,
   "metadata": {
    "colab": {},
    "colab_type": "code",
    "id": "KKNMwVVgYPua"
   },
   "outputs": [
    {
     "name": "stdout",
     "output_type": "stream",
     "text": [
      "[1 1 1 1 1 1 0 1 0 0 1 1 1 1 1 1 0 0 1 0 0 1 0 0 0 0 0 1 0 0 1 0 1 1 1 1 0\n",
      " 0 1 1 0 0 0 1 1 1 0 0 0 1 0 1 1 1 1 0 1 1 1 0 1 0 1 1 1 1 1 1 1 0 0 1 1 1\n",
      " 1 1 1 1 1 0 0 1 0 1 0 1 1 0 1 0 1 0 0 0 1 0 0 1 0 1 1 1 1 1 1 0 0 0 0 1 0\n",
      " 1 0 0 0 0 0 0 1 0 0 0 0 0 0 1 0 0 1 1 0 0 0 1 1 1 1 1 0 1 0 0 0 1 1 0 0 1\n",
      " 0 1 0 1 0 1 1 1 0 1 0 1 1 0 0 0 1 1 1 1 0 1 1 0 1 1 0 0 1 0 0 0 1 0 1 0 0\n",
      " 0 1 0 1 1 1 1 0 1 1 1 0 0 0 1 0 0 0 0 1 0 0 1 0 1 0 1 1 1 1 0 0 0 0 1 1 0\n",
      " 0 0 0 0 0 1 1 1 0 0 0 0 0 0 1 1 0 0 0 1 0 1 0 0 0 1 1 0 1 0 0 0 1 1 1 0 1\n",
      " 0 0 0 0 1 1 1 1 1 1 0 0 1 1 0 0 1 1 0 0 0 1 1 1 0 1 0 0 1 1 0 1 1 0 1 1 1\n",
      " 1 0 1 1 1 1 0 1 0 1 0 1 1 0 0 1 1 1 1 0 0 1 0 1 1 0 0 0 1 1 1 0 0 1 0 1 0\n",
      " 1 0 1 1 1 1 1 0 0 1 1 0 0 1 0 0 0 0 1 1 0 1 1 1 0 0 1 1 0 1 1 1 1 0 1 0 1\n",
      " 0 0 1 1 1 0 1 0 0 0 0 1 1 0 0 1 1 0 0 0 0 0 1 0 1 0 0 1 0 1 0 0 1 1 0 0 1\n",
      " 1 0 1 1 1 1 0 1 1 0 1 1 1 0 0 1 1 0 1 1 1 0 1 0 1 1 0 0 1 1 0 1 1 0 0 0 1\n",
      " 0 0 1 0 0 0 1 0 1 1 0 0 1 1 1 1 0 1 1 0 0 0 1 1 0 1 0 0 1 0 0 0 1 0 0 1 1\n",
      " 0 0 1 0 0 1 1 0 0 1 0 1 1 1 1 0 1 0 1 0 0 0 1 1 0 0 0 1 0 1 1 0 0 0 0 0 1\n",
      " 1 0 0 0 0 0 1 1 0 1 1 0 0 0 1 1 0 1 0 0 1 0 0 1 0 0 1 0 1 0 0 1 1 1 1 1 1\n",
      " 1 0 1 0 1 1 0 1 1 1 0 1 0 0 0 0 1 1 1 0 1 1 1 1 1 1 1 1 1 0 1 1 0 0 0 1 1\n",
      " 1 0 1 0 0 0 1 0 1 0 1 1 1 1 1 1 1 1 0 1 0 0 0 0 1 1 1 0 1 1 1 1 1 0 1 0 1\n",
      " 1 1 0 1 1 1 1 0 1 0 1 0 0 0 0 0 0 0 1 0 0 1 1 1 1 1 1 1 0 0 1 1 1 0 1 0 0\n",
      " 0 1 1 0 0 0 0 1 1 1 1 1 1 1 0 0 0 0 1 1 1 0 1 0 0 1 0 0 0 0 1 0 1 1 1 1 0\n",
      " 0 1 0 0 1 0 1 1 1 1 1 0 0 1 0 1 0 1 0 0 1 0 1 0 0 1 0 1 0 1 1 1 0 1 1 1 1\n",
      " 1 1 0 0 1 0 1 0 1 1 1 0 0 0 1 1 1 1 1 1 1 0 1 0 0 1 0 0 0 1 1 0 0 1 1 1 1\n",
      " 0 0 1 0 0 1 0 0 1 1 0 0 0 1 1 1 0 1 1 1 0 1 0 1 1 1 1 0 0 0 1 1 1 1 1 0 0\n",
      " 0 1 0 1 0 1 0 0 1 0 0 0 0 1 1 1 1 0 1 0 1 0 0 1 1 1 1 1 1 0 1 1 1 0 0 1 0\n",
      " 0 1 0 1 1 1 1 0 1 0 1 1 1 0 1 0 0 1 0 0 1 1 0 1 1 1 1 0 0 1 0 1 1 1 1 1 1\n",
      " 0 0 0 1 0 0 0 0 1 0 0 1 0 1 1 0 0 1 0 0 0 0 0 0 0 0 1 0 0 0 0 1 1 1 0 1 1\n",
      " 1 1 1 0 0 1 1 0 1 1 0 0 0 0 0 0 1 1 1 0 1 0 0 1 0 0 0 0 1 1 1 1 0 0 0 0 1\n",
      " 1 1 0 1 1 0 0 1 0 1 0 1 0 0 1 0 0 0 0 0 1 1 1 1 0 1 0 0 1 1 0 1 1 1 1 0 1\n",
      " 0]\n"
     ]
    }
   ],
   "source": [
    "# Fill in best classifier in your function and re-trian your classifier using all training data\n",
    "# Get predictions for unlabelled test data\n",
    "classifier = learn_classifier(X, y, best_kernel)\n",
    "unlabeled_tweets = pd.read_csv(\"tweets_test.csv\", na_filter=False)\n",
    "y_pred = classify_tweets(tfidf, classifier, unlabeled_tweets)\n",
    "print(y_pred)"
   ]
  },
  {
   "cell_type": "markdown",
   "metadata": {
    "colab_type": "text",
    "id": "oeuZhVR2OhyV"
   },
   "source": [
    "Did your SVM classifier perform better than the baseline? Explain in 1-2 sentences how you reached this conclusion.\n",
    "\n",
    "#### Answer  :\n",
    "Yes, the SVM classifier performed better than the baseline classifier. \n",
    "This can be seen by the accuracies of the two classifiers. The accuracy of the baseline classifier was 50.017 and that of the SVM classifier was 95.13.\n",
    "\n",
    "This is because the baseline classifier simply returns the mode of the data and predicts the class of a datapoint to be the mode class of the classifier while the SVM classifier learns from the data and creates a hyperplane to divide classes. According to the learning, it classifies a new point. This is definitely more accurate in almost all cases such as the one where the point to be classified belongs to the class of less datapoints and most of the other cases.  "
   ]
  }
 ],
 "metadata": {
  "colab": {
   "collapsed_sections": [],
   "name": "hw3.ipynb",
   "provenance": []
  },
  "kernelspec": {
   "display_name": "Python 3",
   "language": "python",
   "name": "python3"
  },
  "language_info": {
   "codemirror_mode": {
    "name": "ipython",
    "version": 3
   },
   "file_extension": ".py",
   "mimetype": "text/x-python",
   "name": "python",
   "nbconvert_exporter": "python",
   "pygments_lexer": "ipython3",
   "version": "3.7.4"
  }
 },
 "nbformat": 4,
 "nbformat_minor": 1
}
